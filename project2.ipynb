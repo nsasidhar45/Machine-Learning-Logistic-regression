{
 "cells": [
  {
   "cell_type": "code",
   "execution_count": 1,
   "id": "e06bb299",
   "metadata": {},
   "outputs": [
    {
     "name": "stdout",
     "output_type": "stream",
     "text": [
      "Defaulting to user installation because normal site-packages is not writeable\n",
      "Collecting ucimlrepo\n",
      "  Downloading ucimlrepo-0.0.3-py3-none-any.whl (7.0 kB)\n",
      "Installing collected packages: ucimlrepo\n",
      "Successfully installed ucimlrepo-0.0.3\n",
      "Note: you may need to restart the kernel to use updated packages.\n"
     ]
    }
   ],
   "source": [
    "pip install ucimlrepo"
   ]
  },
  {
   "cell_type": "code",
   "execution_count": 161,
   "id": "7071f752",
   "metadata": {},
   "outputs": [
    {
     "name": "stdout",
     "output_type": "stream",
     "text": [
      "(569,)\n",
      "(569, 30)\n"
     ]
    }
   ],
   "source": [
    "from ucimlrepo import fetch_ucirepo \n",
    "  \n",
    "# fetch dataset from uci repo using the ucirepo packages \n",
    "cancerData = fetch_ucirepo(id=17) \n",
    "  \n",
    "# data retrieved as dataframes whe using ucimlrepo\n",
    "X = cancerData.data.features\n",
    "y = cancerData.data.targets.replace({'M': 1, 'B': 0})\n",
    "y=y.squeeze()\n",
    "\n",
    "print(y.shape)\n",
    "print(X.shape)"
   ]
  },
  {
   "cell_type": "code",
   "execution_count": 197,
   "id": "52e53c2f",
   "metadata": {},
   "outputs": [
    {
     "name": "stdout",
     "output_type": "stream",
     "text": [
      "Accuracy at fold 1: 0.9736842105263158\n",
      "Accuracy at fold 2: 0.956140350877193\n",
      "Accuracy at fold 3: 0.9736842105263158\n",
      "Accuracy at fold 4: 0.9649122807017544\n",
      "Accuracy at fold 5: 0.9736842105263158\n",
      "Accuracy at fold 6: 0.9649122807017544\n",
      "Accuracy at fold 7: 0.956140350877193\n",
      "Accuracy at fold 8: 0.9649122807017544\n",
      "Accuracy at fold 9: 0.9298245614035088\n",
      "Accuracy at fold 10: 0.9736842105263158\n",
      "Average Accuracy =  0.963157894736842\n"
     ]
    }
   ],
   "source": [
    "from sklearn.model_selection import train_test_split\n",
    "\n",
    "\n",
    "\n",
    "def modelsig(X,theta):\n",
    "    dotProd = np.dot(X,theta)\n",
    "    return 1/(1+np.exp(-dotProd))\n",
    "\n",
    "\n",
    "def newtonRaphson(X,y):\n",
    "    #initailze the theta with 0 with the shape of X\n",
    "    theta=np.zeros(X.shape[1])\n",
    "    l=0\n",
    "    while l<100:\n",
    "        #compute gradient\n",
    "        mu=modelsig(X,theta)\n",
    "        l+=1\n",
    "        grad = np.dot(X.T,mu - y) \n",
    "        #compute hessian H=tranpose(X)SX\n",
    "        #where S= diag(mu(1-mu))\n",
    "        S=np.diag(mu * (1-mu))\n",
    "        #adding the regularisation term to the hessian matrix so as it does not become singular before convergence\n",
    "        hessian = np.dot(X.T, np.dot(S, X)) + 1e-1 * np.eye(X.shape[1])\n",
    "        theta= theta - np.dot(np.linalg.pinv(hessian),grad)   \n",
    "        #check for convergence and if reached break the loop\n",
    "        if np.linalg.norm(np.dot(np.linalg.pinv(hessian), grad)) < 1e-5:\n",
    "            break\n",
    "        \n",
    "    return theta\n",
    "\n",
    "\n",
    "\n",
    "accuracylist=[]\n",
    "#Given to do 10 splits on data set and calculate average \n",
    "for i in range(0,10):\n",
    "    Xtrain,Xtest,ytrain,ytest= train_test_split(X,y,test_size=0.2,random_state=None)\n",
    "    theta = newtonRaphson(Xtrain.to_numpy(),ytrain.to_numpy())\n",
    "    \n",
    "    #predict with the test data\n",
    "    ypred=modelsig(Xtest.to_numpy(),theta)\n",
    "    \n",
    "    #created an array to calculate values that are above the threshold\n",
    "    prr=[]\n",
    "    for ea in ypred:\n",
    "        if ea>=0.5:\n",
    "            prr.append(1)\n",
    "        else:\n",
    "            prr.append(0)\n",
    "    prr=np.array(prr)\n",
    "    # Calculate accuracy of the predicted data built using the model and theta\n",
    "    accuracy = np.mean(prr == ytest)\n",
    "    accuracylist.append(accuracy)\n",
    "    print(f\"Accuracy at fold {i+1}: {accuracy}\")\n",
    "    \n",
    "avgAccuracy=0\n",
    "for eachAccu in accuracylist:\n",
    "    avgAccuracy+=eachAccu\n",
    "\n",
    "print(\"Average Accuracy = \",avgAccuracy/10)\n",
    "    \n",
    "    "
   ]
  }
 ],
 "metadata": {
  "kernelspec": {
   "display_name": "Python 3 (ipykernel)",
   "language": "python",
   "name": "python3"
  },
  "language_info": {
   "codemirror_mode": {
    "name": "ipython",
    "version": 3
   },
   "file_extension": ".py",
   "mimetype": "text/x-python",
   "name": "python",
   "nbconvert_exporter": "python",
   "pygments_lexer": "ipython3",
   "version": "3.10.9"
  }
 },
 "nbformat": 4,
 "nbformat_minor": 5
}
